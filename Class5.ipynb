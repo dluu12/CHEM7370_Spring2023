{
 "cells": [
  {
   "cell_type": "markdown",
   "id": "b46ca04f",
   "metadata": {},
   "source": [
    "# CHEM7370 Class 5\n",
    "## Longest common sequence in two peptides\n",
    "Suppose that we have the amino acid sequences for two peptides (using the one-letter codes) provided as string variables:"
   ]
  },
  {
   "cell_type": "code",
   "execution_count": null,
   "id": "93ea4ed8",
   "metadata": {},
   "outputs": [],
   "source": [
    "p1 = 'CGATKLLKPQAQACCD'\n",
    "p2 = 'STTSKCAKLLKPQAQDCCDEEFCTS'"
   ]
  },
  {
   "cell_type": "markdown",
   "id": "97a55da0",
   "metadata": {},
   "source": [
    "Your task is to write a Python code that finds the *longest common subsequence* between the two peptides. A long common sequence between two peptides found in the same biological material might mean that the DNA fragments encoding the two sequences overlap. A long common sequence between peptides found in different species might indicate a sequence that is preserved from a common evolutional ancestor. It is possible that this preservation is not exact and some mutations have been introduced along the evolutionary pathway. Therefore, as the second example, you will also be looking for the *longest common subsequence with a single point mutation*, so that the subsequences differ by exactly one amino acid.\n",
    "\n",
    "Looking at the example above, what is the length (number of amino acids) of the longest common sequence of `p1` and `p2`? What is the length of the longest common subsequence with a single point mutation?"
   ]
  },
  {
   "cell_type": "markdown",
   "id": "0c2575fb",
   "metadata": {},
   "source": [
    "To make this programming task easier, it will be very useful to write some *functions*. A Python function is a block of code that can be repeatedly called with a different set of *input parameters*, each time *returning* some value (or values) as output. The definition of the function starts with `def function_name(parameter1,parameter2,...):` and the body of the function is contained (you guessed it right) in an indented block. This block is executed until a `return` statement is reached, at which point the function exits, passing the returned value back to the part of the code that called the function.\n",
    "\n",
    "For example, the function `count_letter(sentence,letter)` returns the number of times that the single character `letter` occurs in the string variable `sentence`."
   ]
  },
  {
   "cell_type": "code",
   "execution_count": null,
   "id": "7e59d09d",
   "metadata": {},
   "outputs": [],
   "source": [
    "def count_letter(sentence,letter):\n",
    "    count = 0\n",
    "    for character in sentence:\n",
    "        if character == letter:\n",
    "            count +=1\n",
    "    return count\n",
    "\n",
    "sentence = 'Anatomy of STEM teaching in North American universities'\n",
    "print(sentence)\n",
    "print('The above sentence has',count_letter(sentence,'e'),'letters e.')\n",
    "print('The above sentence has',count_letter(sentence,'a'),'letters a.')\n",
    "print('The above sentence has',count_letter(sentence,'A'),'letters A.')"
   ]
  },
  {
   "cell_type": "markdown",
   "id": "acb101ef",
   "metadata": {},
   "source": [
    "One small issue with our letter counter is that it thinks that `a` and `A` are two different letters. Can you make a smarter version `improved_count_letter(sentence,letter)` that counts lowercase and uppercase letters together, finding correctly that the above sentence has 5 letters `a`?\n",
    "\n",
    "**Hint:** for any string `s`, `s.upper()` gives the same string converted to uppercase and `s.lower()` gives the string converted to lowercase. For example, `'LaTeX'.upper() == 'LATEX'` and `'LaTeX'.lower() == 'latex'`."
   ]
  },
  {
   "cell_type": "code",
   "execution_count": null,
   "id": "04401ad6",
   "metadata": {},
   "outputs": [],
   "source": [
    "def improved_count_letter(sentence,letter):\n",
    "\n",
    "    return count\n",
    "\n",
    "sentence = 'Anatomy of STEM teaching in North American universities'\n",
    "print(sentence)\n",
    "print('The above sentence has',improved_count_letter(sentence,'e'),'letters e.')\n",
    "print('The above sentence has',improved_count_letter(sentence,'a'),'letters a.')\n",
    "print('The above sentence has',improved_count_letter(sentence,'A'),'letters A.')"
   ]
  },
  {
   "cell_type": "markdown",
   "id": "2f69fe12",
   "metadata": {},
   "source": [
    "OK, now that you know how to define functions, please write a function `max_common_sequence(p1,p2)` that returns the longest sequence common to peptides `p1` and `p2`. Sounds good?\n",
    "\n",
    "Just kidding! I will help you do it step by step.\n",
    "\n",
    "The big part of the difficulty is that the common sequence does not have to start at the beginning of either peptide - it can start somewhere in the middle, and the starting place can be different for `p1` and `p2`. Therefore, let's solve an easy case first: what if we assume that the common sequence starts at the beginning of each string, from `p1[0]` and `p2[0]`?\n",
    "\n",
    "First, write a function `first_letter_matches(p1,p2)` that returns `True` if `p1` and `p2` share a common amino acid sequence of length one at the very start, and `False` if they don't. In other words, check if the first amino acid in `p1` and `p2` is the same or different."
   ]
  },
  {
   "cell_type": "code",
   "execution_count": null,
   "id": "c6947a4e",
   "metadata": {},
   "outputs": [],
   "source": [
    "def first_letter_matches(p1,p2):\n",
    "\n",
    "    \n",
    "print (first_letter_matches('Mickey','Mouse'))"
   ]
  },
  {
   "cell_type": "markdown",
   "id": "d7056c9a",
   "metadata": {},
   "source": [
    "What about a function `first_k_letters_matches(p1,p2,k)` that returns `True` if the first `k` amino acid sequence at the beginning of `p1` and `p2` is the same and `False` otherwise? Note that we added `k` as an extra parameter to the function."
   ]
  },
  {
   "cell_type": "code",
   "execution_count": null,
   "id": "0eee8604",
   "metadata": {},
   "outputs": [],
   "source": [
    "def first_k_letters_matches(p1,p2,k):\n",
    "\n",
    "    \n",
    "print (first_k_letters_matches('Mickey','Mouse',1))\n",
    "print (first_k_letters_matches('Mickey','Mouse',2))"
   ]
  },
  {
   "cell_type": "markdown",
   "id": "aafd952e",
   "metadata": {},
   "source": [
    "You are now ready to write a function `how_many_first_letters_match(p1,p2)` that returns the number `k` of amino acids that are the same at the start of both sequences. For example, `how_many_first_letters_match('STTSKCA','STTSQCAPQD')` should return `4` because the first four amino acids match and the fifth one doesn't.\n",
    "\n",
    "You need a loop to try out different possibilities. You can use a `for` loop or a `while` loop: in either case, you need a smart way to determine when we stop counting and exit the loop."
   ]
  },
  {
   "cell_type": "code",
   "execution_count": null,
   "id": "48321870",
   "metadata": {},
   "outputs": [],
   "source": [
    "def how_many_first_letters_match(p1,p2):\n",
    "\n",
    "print(how_many_first_letters_match('STTSKCA','STTSQCAPQD'))\n",
    "print(how_many_first_letters_match('STTSKCA','STTSKCA'))"
   ]
  },
  {
   "cell_type": "markdown",
   "id": "1eff798a",
   "metadata": {},
   "source": [
    "The last function you wrote is very powerful: we can call it on original strings `p1` and `p2` to see if they match from the very start, or we can slice some characters off the front of each one and call this function to see if they match in the middle. If we do it starting from every position in `p1` and every position in `p2`, we will check all possibilities in a way that might not be the most efficient one but certainly works!\n",
    "\n",
    "The code below prints out the lengths of the matching subsequences starting at every position `i` in peptide `p1` and every position `j` in peptide `p2`. The largest number it prints is the solution to your problem - the longest common subsequence of the two peptides. Modify the code so that it only prints the largest length of a common subsequence instead of all of them."
   ]
  },
  {
   "cell_type": "code",
   "execution_count": null,
   "id": "c65c9826",
   "metadata": {},
   "outputs": [],
   "source": [
    "for i in range(len(p1)):\n",
    "    for j in range(len(p2)):\n",
    "        howmany = how_many_first_letters_match(p1[i:],p2[j:])\n",
    "        print ('Positions:',i,j,'matching length:',howmany)"
   ]
  },
  {
   "cell_type": "markdown",
   "id": "45115ffc",
   "metadata": {},
   "source": [
    "You did it! You found the length of common subsequence for the peptides `p1` and `p2` defined at the start of the notebook. To play with other peptide sequences, turn the last cell into a new function `longest_match(p1,p2)` that returns a number - the length of the longest common subsequence. Then we can input each sequence directly into the notebook using the Python `input()` command, and find the longest common subsequence of whatever peptides you type."
   ]
  },
  {
   "cell_type": "code",
   "execution_count": null,
   "id": "2fe02a53",
   "metadata": {},
   "outputs": [],
   "source": [
    "def longest_match(p1,p2):\n",
    "\n",
    "\n",
    "print ('Type the sequence of peptide 1')\n",
    "p1 = input()\n",
    "print ('Type the sequence of peptide 2')\n",
    "p2 = input()\n",
    "print ('Longest common subsequence length:',longest_match(p1,p2))"
   ]
  },
  {
   "cell_type": "markdown",
   "id": "bd9892ff",
   "metadata": {},
   "source": [
    "We are now ready to start task 2 - finding the longest subsequence that is the same up to a mutation of a single amino acid. We need to define functions similar to `how_many_first_letters_match(p1,p2)` and `longest_match(p1,p2)` but allowing for one letter that is not matching: \n",
    "* One mismatched letter - don't break!\n",
    "* Two mismatched letters - break!\n",
    "\n",
    "Let's program a new function `how_many_first_letters_match_all_but_one(p1,p2)` by copy-pasting the definition of `how_many_first_letters_match(p1,p2)` and making the necessary modifications. You might need a new variable that stores the number of mismatched characters so far."
   ]
  },
  {
   "cell_type": "code",
   "execution_count": null,
   "id": "796723ec",
   "metadata": {},
   "outputs": [],
   "source": [
    "def how_many_first_letters_match_all_but_one(p1,p2):\n",
    "\n",
    "\n",
    "print(how_many_first_letters_match_all_but_one('STTSKCA','STTSQCDPQD'))\n",
    "print(how_many_first_letters_match_all_but_one('STTSKCA','STTSKCA'))"
   ]
  },
  {
   "cell_type": "markdown",
   "id": "fd325cea",
   "metadata": {},
   "source": [
    "Now, programming a minimally modified version of `longest_match(p1,p2)` that allows for one mutation should be a piece of cake!"
   ]
  },
  {
   "cell_type": "code",
   "execution_count": null,
   "id": "490c3b55",
   "metadata": {},
   "outputs": [],
   "source": [
    "def longest_match_all_but_one(p1,p2):\n",
    "\n",
    "\n",
    "print ('Type the sequence of peptide 1')\n",
    "p1 = input()\n",
    "print ('Type the sequence of peptide 2')\n",
    "p2 = input()\n",
    "\n",
    "print ('Longest common subsequence length:',longest_match(p1,p2))\n",
    "print ('Longest common subsequence length up to one mutation:',longest_match_all_but_one(p1,p2))"
   ]
  },
  {
   "cell_type": "markdown",
   "id": "5ccf4416",
   "metadata": {},
   "source": [
    "Congratulations, you have written a code that can find the length of the longest common sequence, exactly or with one mutation. Test your code on a bunch of examples, including the sequences in the files `sequenceX.txt` provided in the email/Canvas materials. If you want to generate a random peptide sequence of any specific length, this [website](https://www.bioinformatics.org/sms2/random_protein.html \"Random protein sequence\") is very handy.\n",
    "\n",
    "If you want to keep working on your code, here are two ideas how to improve it:\n",
    "1. When you only know the length of the matching sequence, it might be very hard to find what sequence it is and where it occurs in each peptide. Modify your code so that it prints each peptide with the matching sequence highlighted. One way to accomplish this is printing the matching sequence in capital letters and the rest of `p1` and `p2` in lowercase letters.\n",
    "2. You assumed that the point mutation substituted one amino acid by another one. Can you find the longest common subsequence allowing for a single insertion/deletion mutation? For example, the sequences `HFMPEIHM` and `HFMPDEIHM` are the same up to a single insertion/deletion, so the longest common subsequence up to one such mutation is 8 (or maybe 9?)"
   ]
  }
 ],
 "metadata": {
  "kernelspec": {
   "display_name": "Python 3 (ipykernel)",
   "language": "python",
   "name": "python3"
  },
  "language_info": {
   "codemirror_mode": {
    "name": "ipython",
    "version": 3
   },
   "file_extension": ".py",
   "mimetype": "text/x-python",
   "name": "python",
   "nbconvert_exporter": "python",
   "pygments_lexer": "ipython3",
   "version": "3.9.15"
  }
 },
 "nbformat": 4,
 "nbformat_minor": 5
}
