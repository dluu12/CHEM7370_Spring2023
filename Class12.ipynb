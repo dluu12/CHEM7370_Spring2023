{
 "cells": [
  {
   "cell_type": "markdown",
   "id": "7fc87e16",
   "metadata": {},
   "source": [
    "# CHEM7370 Class 12\n",
    "## Visualizing p orbitals\n",
    "An orbital is a wavefunction for one electron. In the hydrogen atom, there is only one electron so the entire electronic wavefunction is an orbital, and the only atom for which we have explicit formulas for orbitals is the hydrogen atom. For many-electron atoms or molecules, we can only approximately assign electrons to individual orbitals (we can get these orbitals by solving Hartree-Fock or Kohn-Sham equations), so molecular orbitals are a model that is not exactly correct, but very useful nonetheless. None of it matters for today's class though...\n",
    "\n",
    "Today, our goal is to visualize the orbitals for a hydrogen atom, focusing specifically on the *2p* and *3p* orbitals. We have seen many orbital pictures, but do we *really* understand what they represent? The reason visualizing orbitals is tricky is because we are dealing with a function of three variables, *f(x,y,z)*. \n",
    "* We can graph a function of one variable *f(x)* on a 2D plot.\n",
    "* We can graph a function of two variables *f(x,y)* on a 3D surface plot.\n",
    "* We can graph a function of three variables *f(x,y,z)* on a... 4D plot?\n",
    "\n",
    "This probably won't work, so instead we will explore two different ways of visualizing orbitals: \n",
    "* graphing a 2D slice *f(x,y)* on a contour or surface plot,\n",
    "* graphing an orbital contour (isosurface) on a 3D plot."
   ]
  },
  {
   "cell_type": "markdown",
   "id": "796cb36d",
   "metadata": {},
   "source": [
    "Here are some formulas for the hydrogen atom orbitals as functions of *(x,y,z)*, expressed in atomic units:\n",
    "* *2p<sub>x</sub>=(32π)<sup>-1/2</sup>xe<sup>-r/2</sup>*\n",
    "* *2p<sub>y</sub>=(32π)<sup>-1/2</sup>ye<sup>-r/2</sup>*\n",
    "* *2p<sub>z</sub>=(32π)<sup>-1/2</sup>ze<sup>-r/2</sup>*\n",
    "* *3p<sub>x</sub>=(1/81)(2/π)<sup>1/2</sup>x(6-r)e<sup>-r/3</sup>*\n",
    "* *3p<sub>y</sub>=(1/81)(2/π)<sup>1/2</sup>y(6-r)e<sup>-r/3</sup>*\n",
    "* *3p<sub>z</sub>=(1/81)(2/π)<sup>1/2</sup>z(6-r)e<sup>-r/3</sup>*\n",
    "\n",
    "where *r=(x<sup>2</sup>+y<sup>2</sup>+z<sup>2</sup>)<sup>1/2</sup>* is the distance from the nucleus (located at *(0,0,0)*). The number at the very front is a *normalization constant* - the square of a normalized orbital represents the probability density of finding an electron at different locations, and a probability density integrated over the entire 3D space has to give 1 - the probability of finding an electron anywhere in space.\n",
    "\n",
    "Let's program these six orbitals as functions of *(x,y,z)* that we can call later. You can calculate the exponential function of every element in an array with `numpy.exp(array)`, and raise every element to power `x` (integer or not) with `numpy.power(array,x)`. Feel free to also use `numpy.sqrt(array)` for calculating the square root, and `numpy.pi` (no parentheses) to get the value of π."
   ]
  },
  {
   "cell_type": "code",
   "execution_count": null,
   "id": "da939d4e",
   "metadata": {},
   "outputs": [],
   "source": [
    "import numpy\n",
    "def r(x,y,z):\n",
    "    return numpy.sqrt(x*x+y*y+z*z)\n",
    "\n",
    "def orb2px(x,y,z):\n",
    "    return x*numpy.exp(-r(x,y,z)/2)/numpy.sqrt(32*numpy.pi)\n",
    "\n",
    "def orb2py(x,y,z):\n",
    "    return y*numpy.exp(-r(x,y,z)/2)/numpy.sqrt(32*numpy.pi)\n",
    "\n",
    "def orb2pz(x,y,z):\n",
    "    return z*numpy.exp(-r(x,y,z)/2)/numpy.sqrt(32*numpy.pi)\n",
    "\n",
    "def orb3px(x,y,z):\n",
    "    return x*(6-r(x,y,z))*numpy.exp(-r(x,y,z)/3)*numpy.sqrt(2/numpy.pi)/81\n",
    "\n",
    "def orb3py(x,y,z):\n",
    "    return y*(6-r(x,y,z))*numpy.exp(-r(x,y,z)/3)*numpy.sqrt(2/numpy.pi)/81\n",
    "\n",
    "def orb3pz(x,y,z):\n",
    "    return z*(6-r(x,y,z))*numpy.exp(-r(x,y,z)/3)*numpy.sqrt(2/numpy.pi)/81"
   ]
  },
  {
   "cell_type": "markdown",
   "id": "5868c2a8",
   "metadata": {},
   "source": [
    "## Graphing a 2D slice *f(x,y)* on a contour plot\n",
    "If we limit ourself to the *z=0* plane, the orbital becomes a function of two variables, *f(x,y)*. We very often graph functions of two variables as a *contour plot*, drawing contours that connect the *(x,y)* points with the same values of *f(x,y)*. The best known example is a topographic map, where contours show the locations (on the 2D surface of the Earth) that have the same elevation. We will now work on drawing contour plots of our *2p* and *3p* orbitals, but first we need to prepare some arrays with the values of the function on a two-dimensional *grid* of regularly spaced points *(x,y)*.\n",
    "\n",
    "Let's say that our grid points will extend from -15 to 15 in each direction (*x* or *y*), spaced every 0.1. First let's create `numpy` arrays `x` and `y` that can be used for indexing the grid points. Then we combine the `x` and `y` indices into every possible pair (a Cartesian product) using `numpy.meshgrid`:"
   ]
  },
  {
   "cell_type": "code",
   "execution_count": null,
   "id": "40b6f359",
   "metadata": {},
   "outputs": [],
   "source": [
    "x = numpy.linspace(-15.0, 15.0, 301) # 301 is the total number of points generated\n",
    "y = numpy.linspace(-15.0, 15.0, 301)\n",
    "Xgrid,Ygrid = numpy.meshgrid(x,y)\n",
    "values_2px = orb2px(Xgrid, Ygrid, 0.0)\n",
    "values_3px = orb3px(Xgrid, Ygrid, 0.0)\n",
    "print(values_2px.shape)"
   ]
  },
  {
   "cell_type": "markdown",
   "id": "5abbae1c",
   "metadata": {},
   "source": [
    "The 2D arrays `values_2px` and `values_3px` are now ready for a contour plot using the `matplotlib` `ax.contour()` function, where `ax` are the axes defined by `plt.subplots()`."
   ]
  },
  {
   "cell_type": "code",
   "execution_count": null,
   "id": "4f959fea",
   "metadata": {},
   "outputs": [],
   "source": [
    "import matplotlib.pyplot as plt\n",
    "\n",
    "fig, ax = plt.subplots(1,2)\n",
    "\n",
    "ax[0].contour(x, y, values_2px)\n",
    "ax[0].set_aspect('equal')\n",
    "ax[1].contour(x, y, values_3px)\n",
    "ax[1].set_aspect('equal')"
   ]
  },
  {
   "cell_type": "markdown",
   "id": "1d8d27a4",
   "metadata": {},
   "source": [
    "The `contour` command in `matplotlib` produces a plot where the contour levels are not filled. We might want a filled contour plot instead, so we can use the `contourf` (f for filled) function instead.\n",
    "\n",
    "We might also want a color bar to tell us the scale of the colors. The `contour` and `contourf` functions return a variable we can use for a colorbar. You should capture the output of the `contour` or `contourf` command and add a color bar to the figure using `fig.colorbar`."
   ]
  },
  {
   "cell_type": "code",
   "execution_count": null,
   "id": "97e75bf1",
   "metadata": {},
   "outputs": [],
   "source": [
    "fig, ax = plt.subplots(1,2)\n",
    "\n",
    "ax[0].contourf(x, y, values_2px)\n",
    "ax[0].set_aspect('equal')\n",
    "CS = ax[1].contourf(x, y, values_3px)\n",
    "ax[1].set_aspect('equal')\n",
    "\n",
    "fig.colorbar(CS)"
   ]
  },
  {
   "cell_type": "markdown",
   "id": "63dad38a",
   "metadata": {},
   "source": [
    "## Picking a Color Map\n",
    "When creating a contour plot, you can also specify the color map you would like to use. You can see a list of built-in color maps for matplotlib [here](https://matplotlib.org/stable/tutorials/colors/colormaps.html).\n",
    "\n",
    "There are different classes of colormaps you might want to choose depending on the type of data you are looking at. Matplotlib gives the following guidance (see, e.g., [Moreland](http://www.kennethmoreland.com/color-maps/ColorMapsExpanded.pdf)):\n",
    "\n",
    "1. **Sequential:** change in lightness and often saturation of color incrementally, often using a single hue; should be used for representing information that has ordering.\n",
    "\n",
    "2. **Diverging:** change in lightness and possibly saturation of two different colors that meet in the middle at an unsaturated color; should be used when the information being plotted has a critical middle value, such as topography or when the data deviates around zero.\n",
    "\n",
    "3. **Cyclic:** change in lightness of two different colors that meet in the middle and beginning/end at an unsaturated color; should be used for values that wrap around at the endpoints, such as phase angle, wind direction, or time of day.\n",
    "\n",
    "4. **Qualitative:** often are miscellaneous colors; should be used to represent information which does not have ordering or relationships.\n",
    "\n",
    "This data has both positive and negative values, which zero representing a node for the wavefunction. Take a moment and think of which class of color maps would be best for this type of data.\n",
    "\n",
    "After some consideration, you should arrive at the conclusion that we should use a **diverging** colormap to best represent the orbital values. We will use the colormap “RdBu”.\n",
    "\n",
    "At the same time, we will use some options of `fig.colorbar()` to improve the colorbar placement."
   ]
  },
  {
   "cell_type": "code",
   "execution_count": null,
   "id": "55e8cf93",
   "metadata": {},
   "outputs": [],
   "source": [
    "fig, ax = plt.subplots(1,2)\n",
    "\n",
    "ax[0].contourf(x, y, values_2px, cmap=\"RdBu\")\n",
    "ax[0].set_aspect('equal')\n",
    "CS = ax[1].contourf(x, y, values_3px, cmap=\"RdBu\")\n",
    "ax[1].set_aspect('equal')\n",
    "\n",
    "fig.colorbar(CS, ax=ax[:], location='bottom')"
   ]
  },
  {
   "cell_type": "markdown",
   "id": "8813ec29",
   "metadata": {},
   "source": [
    "## Number of Contour Colors - Levels\n",
    "Our plot is only showing six different colors by default, but we might be interested in finger-grain detail of our plot. We will want to specify how many colors, or how many “levels” we want to use in our colormap.\n",
    "\n",
    "Unfortunately, we can’t just say how many levels we want. We have to give numeric values where we would like levels to occur. For example, if our data ranges from -10 to 10 and we want 20 evenly spaced levels (or, a color for every integer), we would need to give matplotlib a list of all the integers to use as levels.\n",
    "\n",
    "For our data, we would likely want to start at the minimum value and end at the maximum value. We can use the function `numpy.linspace` to generate evenly spaced numbers between the minimum and maximum, but first we need to calculate the minimum and maximum of our orbital values."
   ]
  },
  {
   "cell_type": "code",
   "execution_count": null,
   "id": "db8e0929",
   "metadata": {},
   "outputs": [],
   "source": [
    "min_2px = numpy.min(values_2px)\n",
    "max_2px = numpy.max(values_2px)\n",
    "min_3px = numpy.min(values_3px)\n",
    "max_3px = numpy.max(values_3px)\n",
    "min_common = min(min_2px,min_3px)\n",
    "max_common = max(max_2px,max_3px)\n",
    "levels = numpy.linspace(min_common, max_common, 30)\n",
    "levels"
   ]
  },
  {
   "cell_type": "markdown",
   "id": "e4bbe309",
   "metadata": {},
   "source": [
    "We pass this list of numbers to the `levels` argument in the `contourf` function. Now, we will use 30 colors on our plot.\n",
    "\n",
    "The last consideration for this plot is the numbers in our color bar. We might want fewer labels and fewer decimal places. To specify our number of decimal places, we will use a `format` argument in the `colorbar` command. We can tell `matplotlib` where to label the color bar by giving a list of values. We will generate 6 evenly spaced values again using `linspace` and use those as tick marks."
   ]
  },
  {
   "cell_type": "code",
   "execution_count": null,
   "id": "5f394093",
   "metadata": {},
   "outputs": [],
   "source": [
    "ticks = numpy.linspace(min_common, max_common, 6)\n",
    "\n",
    "fig, ax = plt.subplots(1,2)\n",
    "\n",
    "ax[0].contourf(x, y, values_2px, cmap=\"RdBu\", levels=levels)\n",
    "ax[0].set_aspect('equal')\n",
    "ax[0].set_xlabel('x')\n",
    "ax[0].set_ylabel('y')\n",
    "CS = ax[1].contourf(x, y, values_3px, cmap=\"RdBu\", levels=levels)\n",
    "ax[1].set_aspect('equal')\n",
    "ax[1].set_xlabel('x')\n",
    "\n",
    "fig.colorbar(CS, ax=ax[:], location='bottom', format=\"%.3f\", ticks=ticks)"
   ]
  },
  {
   "cell_type": "markdown",
   "id": "8310e4c4",
   "metadata": {},
   "source": [
    "## Graphing a 2D slice *f(x,y)* on a surface plot\n",
    "We can plot the same function of two variables *f(x,y)* as a standard, 3D surface plot: *z=f(x,y)*. To view the 3D plot in 2D, we need to project it, and the default `matplotlib` projection is OK for most purposes."
   ]
  },
  {
   "cell_type": "code",
   "execution_count": null,
   "id": "c17329ea",
   "metadata": {},
   "outputs": [],
   "source": [
    "# a \"meta-function\" needed to have interactive plots in the Jupyter notebook\n",
    "%matplotlib notebook \n",
    "\n",
    "fig, ax = plt.subplots(1, 2, subplot_kw={\"projection\": \"3d\"})\n",
    "\n",
    "# Plot the surface. Note that we plot the values as a function of 2D grids Xgrid, Ygrid instead of 1D coordinates x,y\n",
    "surf0 = ax[0].plot_surface(Xgrid, Ygrid, values_2px, cmap=\"RdBu\",\n",
    "                       linewidth=0, antialiased=False)\n",
    "surf1 = ax[1].plot_surface(Xgrid, Ygrid, values_3px, cmap=\"RdBu\",\n",
    "                       linewidth=0, antialiased=False)\n",
    "\n",
    "fig.show()"
   ]
  },
  {
   "cell_type": "markdown",
   "id": "105dccad",
   "metadata": {},
   "source": [
    "## Graphing an orbital contour (isosurface) on a 3D plot\n",
    "The most common picture of a *2p* orbital displays two differently colored lobes in 3D. What this picture does is showing two specific *isosurfaces* - contours on a 3D contour map, connecting all points *(x,y,z)* for which *f(x,y,z)* shares the same value *+a* (for the positive lobe) or the same value *-a* (for the negative lobe).\n",
    "\n",
    "To produce such a plot, we have some preparation to do - so far we used the values of an orbital on regularly spaced grid points - this is how the arrays such as *values_2px* were constructed. However, if we just examine the values at grid points, we would have to be extremely lucky (or extremely symmetric) to find equal numbers. The contours we are looking for pass in between the grid points, and we have to *interpolate* the function to locate the contours.\n",
    "\n",
    "Let's stick to our grid of *(x,y)* points but perform an interpolation along the *z* axis to find all points with a specific value *f(x,y,z)*. We expect to find two points with a given positive value (the upper and lower surface of the positive lobe) and two points with a given negative value (the upper and lower surface of the negative lobe). Let's store the values of *z* (as functions of *(x,y)*) for these four surfaces in arrays `positive_lobe_up`, `positive_lobe_down`, `negative_lobe_up`, and `negative_lobe_down`. If no suitable *z* value is found for a given *(x,y)*, we want the value of the array to be `numpy.nan` so that it will not be plotted (if we initialize the arrays to zero, we will get a horizontal plane plotted together with the orbital shape, and we don't want this).\n",
    "\n",
    "**Warning:** Executing this cell might take a minute or two."
   ]
  },
  {
   "cell_type": "code",
   "execution_count": null,
   "id": "0771153e",
   "metadata": {},
   "outputs": [],
   "source": [
    "iso_value = 0.01  # we will plot f(x,y,z)=+- 0.01\n",
    "zmin = -10.0\n",
    "zmax = 10.0\n",
    "zstep = 0.1 # search the z values in this range\n",
    "# First, we save all interpolated point as a list. Then, we will convert the list to a numpy array.\n",
    "positive_lobe_up = numpy.empty((201,201))\n",
    "positive_lobe_up.fill(numpy.nan)\n",
    "positive_lobe_down = numpy.empty((201,201))\n",
    "positive_lobe_down.fill(numpy.nan)\n",
    "negative_lobe_up = numpy.empty((201,201))\n",
    "negative_lobe_up.fill(numpy.nan)\n",
    "negative_lobe_down = numpy.empty((201,201))\n",
    "negative_lobe_down.fill(numpy.nan)\n",
    "for xind, x0 in enumerate(numpy.linspace(-10.0, 10.0, 201)):\n",
    "    for yind, y0 in enumerate(numpy.linspace(-10.0, 10.0, 201)):\n",
    "        z0 = zmin\n",
    "        fold = orb2px(x0, y0, z0)\n",
    "        while z0 < zmax:\n",
    "            z0 += zstep\n",
    "            fnew = orb2px(x0, y0, z0)\n",
    "            if max(fold,fnew) >= iso_value and min(fold,fnew) <= iso_value:\n",
    "# the positive lobe is somewhere between z0 and z0-zstep, let's do linear interpolation\n",
    "                zint = z0 * abs((iso_value-fold)/(fnew-fold)) + (z0 - zstep) * abs((iso_value-fnew)/(fnew-fold))\n",
    "                # print(\"+\",fold,fnew,z0,zint,orb2px(x0, y0, zint))\n",
    "                if numpy.isnan(positive_lobe_up[xind,yind]):\n",
    "                    positive_lobe_up[xind,yind] = zint\n",
    "                elif positive_lobe_up[xind,yind] >= zint:\n",
    "                    positive_lobe_down[xind,yind] = zint\n",
    "                else:\n",
    "                    positive_lobe_down[xind,yind] = positive_lobe_up[xind,yind]\n",
    "                    positive_lobe_up[xind,yind] = zint\n",
    "            if max(fold,fnew) >= -iso_value and min(fold,fnew) <= -iso_value:\n",
    "# the negative lobe is somewhere between z0 and z0-zstep, let's do linear interpolation\n",
    "                zint = z0 * abs((-iso_value-fold)/(fnew-fold)) + (z0 - zstep) * abs((-iso_value-fnew)/(fnew-fold))\n",
    "                # print(\"-\",fold,fnew,z0,zint,orb2px(x0, y0, zint))\n",
    "                if numpy.isnan(negative_lobe_up[xind,yind]):\n",
    "                    negative_lobe_up[xind,yind] = zint\n",
    "                elif negative_lobe_up[xind,yind] >= zint:\n",
    "                    negative_lobe_down[xind,yind] = zint\n",
    "                else:\n",
    "                    negative_lobe_down[xind,yind] = negative_lobe_up[xind,yind]\n",
    "                    negative_lobe_up[xind,yind] = zint\n",
    "            fold = fnew"
   ]
  },
  {
   "cell_type": "markdown",
   "id": "5244c0dd",
   "metadata": {},
   "source": [
    "The positive and negative lobes can now be plotted on a suitable mesh grid. We will print the two positive half-lobes with one color and two negative half-lobes with another color."
   ]
  },
  {
   "cell_type": "code",
   "execution_count": null,
   "id": "4a334ed8",
   "metadata": {},
   "outputs": [],
   "source": [
    "Xgr,Ygr = numpy.meshgrid(numpy.linspace(-10.0, 10.0, 201), numpy.linspace(-10.0, 10.0, 201))\n",
    "\n",
    "fig = plt.figure()\n",
    "ax = fig.add_subplot(projection='3d')\n",
    "\n",
    "# Plot the surface\n",
    "ax.plot_surface(Xgr, Ygr, positive_lobe_up, color='b')\n",
    "ax.plot_surface(Xgr, Ygr, positive_lobe_down, color='b')\n",
    "ax.plot_surface(Xgr, Ygr, negative_lobe_up, color='r')\n",
    "ax.plot_surface(Xgr, Ygr, negative_lobe_down, color='r')\n",
    "\n",
    "# Set an equal aspect ratio\n",
    "ax.set_aspect('equal')\n",
    "\n",
    "plt.show()"
   ]
  },
  {
   "cell_type": "markdown",
   "id": "8b34c28e",
   "metadata": {},
   "source": [
    "Not bad, but... the upper and lower half-lobes are separate from each other, like broken eggshells. Can we glue them together? Yes, if we change the half-lobe values *on their edges* from `numpy.nan` to zero."
   ]
  },
  {
   "cell_type": "code",
   "execution_count": null,
   "id": "e238cf8e",
   "metadata": {},
   "outputs": [],
   "source": [
    "patched_positive_lobe_up = numpy.empty((201,201))\n",
    "patched_positive_lobe_up.fill(numpy.nan)\n",
    "patched_positive_lobe_down = numpy.empty((201,201))\n",
    "patched_positive_lobe_down.fill(numpy.nan)\n",
    "patched_negative_lobe_up = numpy.empty((201,201))\n",
    "patched_negative_lobe_up.fill(numpy.nan)\n",
    "patched_negative_lobe_down = numpy.empty((201,201))\n",
    "patched_negative_lobe_down.fill(numpy.nan)\n",
    "\n",
    "for xind in range(1,200):\n",
    "    for yind in range(1,200): # we don't want edge points of the 2D array, only 1,...,199\n",
    "        if numpy.isnan(positive_lobe_up[xind,yind]):\n",
    "            # this point is outside the lobe, check if any neighboring point is on the lobe\n",
    "            if numpy.isnan(positive_lobe_up[xind-1,yind]) and numpy.isnan(positive_lobe_up[xind+1,yind]\n",
    "                ) and numpy.isnan(positive_lobe_up[xind,yind-1]) and numpy.isnan(positive_lobe_up[xind,yind+1]):\n",
    "                patched_positive_lobe_up[xind,yind] = positive_lobe_up[xind,yind]\n",
    "                patched_positive_lobe_down[xind,yind] = positive_lobe_down[xind,yind]\n",
    "            else:\n",
    "                patched_positive_lobe_up[xind,yind] = 0.0\n",
    "                patched_positive_lobe_down[xind,yind] = 0.0\n",
    "        else:\n",
    "            patched_positive_lobe_up[xind,yind] = positive_lobe_up[xind,yind]\n",
    "            patched_positive_lobe_down[xind,yind] = positive_lobe_down[xind,yind]\n",
    "        if numpy.isnan(negative_lobe_up[xind,yind]):\n",
    "            # this point is outside the lobe, check if any neighboring point is on the lobe\n",
    "            if numpy.isnan(negative_lobe_up[xind-1,yind]) and numpy.isnan(negative_lobe_up[xind+1,yind]\n",
    "                ) and numpy.isnan(negative_lobe_up[xind,yind-1]) and numpy.isnan(negative_lobe_up[xind,yind+1]):\n",
    "                patched_negative_lobe_up[xind,yind] = negative_lobe_up[xind,yind]\n",
    "                patched_negative_lobe_down[xind,yind] = negative_lobe_down[xind,yind]\n",
    "            else:\n",
    "                patched_negative_lobe_up[xind,yind] = 0.0\n",
    "                patched_negative_lobe_down[xind,yind] = 0.0\n",
    "        else:\n",
    "            patched_negative_lobe_up[xind,yind] = negative_lobe_up[xind,yind]\n",
    "            patched_negative_lobe_down[xind,yind] = negative_lobe_down[xind,yind]"
   ]
  },
  {
   "cell_type": "markdown",
   "id": "f9582f1b",
   "metadata": {},
   "source": [
    "We patched the edges of all four half-lobes with zeros. Now we can try plotting them again."
   ]
  },
  {
   "cell_type": "code",
   "execution_count": null,
   "id": "20fd4e73",
   "metadata": {},
   "outputs": [],
   "source": [
    "Xgr,Ygr = numpy.meshgrid(numpy.linspace(-10.0, 10.0, 201), numpy.linspace(-10.0, 10.0, 201))\n",
    "\n",
    "fig = plt.figure()\n",
    "ax = fig.add_subplot(projection='3d')\n",
    "\n",
    "# Plot the surface\n",
    "ax.plot_surface(Xgr, Ygr, patched_positive_lobe_up, color='b')\n",
    "ax.plot_surface(Xgr, Ygr, patched_positive_lobe_down, color='b')\n",
    "ax.plot_surface(Xgr, Ygr, patched_negative_lobe_up, color='r')\n",
    "ax.plot_surface(Xgr, Ygr, patched_negative_lobe_down, color='r')\n",
    "\n",
    "# Set an equal aspect ratio\n",
    "ax.set_aspect('equal')\n",
    "\n",
    "plt.show()"
   ]
  },
  {
   "cell_type": "markdown",
   "id": "c17d697c",
   "metadata": {},
   "source": [
    "Not perfect, but good enough (and can be made better by denser sampling if you have time for that)."
   ]
  }
 ],
 "metadata": {
  "kernelspec": {
   "display_name": "Python 3 (ipykernel)",
   "language": "python",
   "name": "python3"
  },
  "language_info": {
   "codemirror_mode": {
    "name": "ipython",
    "version": 3
   },
   "file_extension": ".py",
   "mimetype": "text/x-python",
   "name": "python",
   "nbconvert_exporter": "python",
   "pygments_lexer": "ipython3",
   "version": "3.9.13"
  }
 },
 "nbformat": 4,
 "nbformat_minor": 5
}
